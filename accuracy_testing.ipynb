{
 "cells": [
  {
   "cell_type": "markdown",
   "id": "41922614-e566-4796-bac5-7bf09e6f3150",
   "metadata": {},
   "source": [
    "# This notebook is for evaluating the model's accuracy on datasets"
   ]
  },
  {
   "cell_type": "code",
   "execution_count": 212,
   "id": "fcd109e7-2e0d-4f53-8796-25d2118c28ec",
   "metadata": {},
   "outputs": [],
   "source": [
    "import json\n",
    "import numpy as np\n",
    "from openai import OpenAI"
   ]
  },
  {
   "cell_type": "code",
   "execution_count": 213,
   "id": "10ad0d18-61d0-4e98-90fb-81b5a228c74a",
   "metadata": {},
   "outputs": [],
   "source": [
    "with open('datasets.json', 'r') as f:\n",
    "    datasets = json.load(f)"
   ]
  },
  {
   "cell_type": "code",
   "execution_count": 214,
   "id": "20a11af3-97a6-4b8b-88d6-7e98a5d4b3f0",
   "metadata": {},
   "outputs": [],
   "source": [
    "from copy import deepcopy\n",
    "\n",
    "def get_inputs(dataset, n_train, n_test):\n",
    "\n",
    "    test_examples = np.random.choice(dataset['length'],size=n_test, replace=False)\n",
    "\n",
    "    inputs = []\n",
    "    targets = []\n",
    "    sentences = []\n",
    "    for j in test_examples:\n",
    "        neg_examples = np.random.choice([i for i in range(dataset['length']) if i != j and dataset['targets'][i]==False],size=n_train//2, replace=False)\n",
    "        pos_examples = np.random.choice([i for i in range(dataset['length']) if i != j and dataset['targets'][i]==True],size=n_train//2, replace=False)\n",
    "        context_examples = np.random.choice(np.concatenate([neg_examples,pos_examples]),size=2 * (n_train//2), replace=False)\n",
    "        message = [\n",
    "            {'role': 'system', 'content': 'Please classify below input as in the provided examples.'}\n",
    "        ]\n",
    "        content = []\n",
    "        for i in context_examples:\n",
    "            message.append({'role': 'user', 'content': 'Input: \"{}\"'.format(dataset['data'][i])})\n",
    "            message.append({'role': 'user', 'content': 'Label: {}'.format(dataset['targets'][i])})\n",
    "        #content.append('Input: \"{}\"'.format(dataset['data'][j]))\n",
    "        message.append({'role': 'user', 'content': 'Input: \"{}\"'.format(dataset['data'][j])})\n",
    "        #message.append({'role': 'assistant', 'content': 'Label: {}'.format(dataset['targets'][j])})\n",
    "        # Multiple choice message\n",
    "        # message.append({'role': 'system', 'content': 'What feature did you use to make this classification decision? Please briefly explain.\\nA) Grammaticality\\nB) Capitalization\\nC) Sentence sentiment\\nD) Subject of the sentence or meaning of words\\nE) Other'})\n",
    "        # COT Message\n",
    "        #message.append({'role': 'system', 'content': \"Why did you make this classification decision? Before coming to a conclusion, try to consider several alternatives and think step-by-step.\"})\n",
    "        inputs.append(message)\n",
    "        targets.append(dataset['targets'][j])\n",
    "        sentences.append(dataset['data'][j])\n",
    "\n",
    "    return inputs, targets, sentences"
   ]
  },
  {
   "cell_type": "code",
   "execution_count": 215,
   "id": "1315a3b6-4ebf-4cec-976c-f97e8437b343",
   "metadata": {},
   "outputs": [
    {
     "data": {
      "text/plain": [
       "([[{'role': 'system',\n",
       "    'content': 'Please classify below input as in the provided examples.'},\n",
       "   {'role': 'user',\n",
       "    'content': 'Input: \"The gentle cow looked up as the farmer approached the barn.\"'},\n",
       "   {'role': 'user', 'content': 'Label: True'},\n",
       "   {'role': 'user', 'content': 'Input: \"The cake baked for over an hour.\"'},\n",
       "   {'role': 'user', 'content': 'Label: False'},\n",
       "   {'role': 'user',\n",
       "    'content': 'Input: \"She\\'s allergic to bees so avoids flowers when possible.\"'},\n",
       "   {'role': 'user', 'content': 'Label: True'},\n",
       "   {'role': 'user',\n",
       "    'content': 'Input: \"Beach chairs flapped lazily in fresh, salty ocean breezes.\"'},\n",
       "   {'role': 'user', 'content': 'Label: False'},\n",
       "   {'role': 'user', 'content': 'Input: \"She loves to read poetry books.\"'}]],\n",
       " [False],\n",
       " ['She loves to read poetry books.'])"
      ]
     },
     "execution_count": 215,
     "metadata": {},
     "output_type": "execute_result"
    }
   ],
   "source": [
    "np.random.seed(0)\n",
    "get_inputs(datasets[1],4,1)"
   ]
  },
  {
   "cell_type": "code",
   "execution_count": 209,
   "id": "55fdb084-fa29-4954-89bc-0e45d8618f1f",
   "metadata": {},
   "outputs": [
    {
     "name": "stdout",
     "output_type": "stream",
     "text": [
      "Label: False\n",
      "Label: True\n",
      "Label: False\n",
      "Label: False\n",
      "Label: False\n",
      "Label: False\n",
      "Label: False\n",
      "Label: False\n",
      "Label: False\n",
      "Label: False\n"
     ]
    }
   ],
   "source": [
    "# id is the index of the dataset\n",
    "id = 1\n",
    "\n",
    "# n_train is number of in-context learning examples\n",
    "n_train = 50\n",
    "\n",
    "# n_test is total number of test prompts (and thus test sentences) to use (1 test sentence per prompt)\n",
    "n_test = 10\n",
    "\n",
    "# OpenAI Api Key\n",
    "API_KEY = ...\n",
    "\n",
    "np.random.seed(0)\n",
    "\n",
    "dataset = datasets[id]\n",
    "\n",
    "client = OpenAI(api_key=API_KEY)\n",
    "\n",
    "inputs, targets, sentences = get_inputs(dataset, n_train, min(n_test,dataset['length']))\n",
    "\n",
    "outputs = []\n",
    "\n",
    "for input in inputs:\n",
    "    \n",
    "    response = client.chat.completions.create(\n",
    "      model=\"gpt-4-1106-preview\",\n",
    "      messages=input,\n",
    "    temperature=0\n",
    "    )\n",
    "    t = response.choices[0].message.content\n",
    "    print(t)\n",
    "    outputs.append(t)"
   ]
  },
  {
   "cell_type": "code",
   "execution_count": 210,
   "id": "5f47143b-f43e-439d-b410-90d3dbb6c778",
   "metadata": {},
   "outputs": [
    {
     "name": "stdout",
     "output_type": "stream",
     "text": [
      "1.0\n"
     ]
    }
   ],
   "source": [
    "correct = sum([output[7:]==str(target) for output, target in zip(outputs,targets)])\n",
    "acc = correct/len(outputs)\n",
    "print(acc)"
   ]
  },
  {
   "cell_type": "code",
   "execution_count": 170,
   "id": "019d5e98-0afa-490e-a3b8-5b4af339b709",
   "metadata": {},
   "outputs": [],
   "source": [
    "# save accuracy and number of training examples used\n",
    "datasets[id]['accuracy'] = acc\n",
    "datasets[id]['n_train'] = n_train"
   ]
  },
  {
   "cell_type": "code",
   "execution_count": 171,
   "id": "13b7a626-66e8-4fc6-b1a8-474afacac9dd",
   "metadata": {},
   "outputs": [],
   "source": [
    "# save dataset with new info\n",
    "\n",
    "with open('datasets.json', 'w') as f:\n",
    "    json.dump(datasets, f)"
   ]
  },
  {
   "cell_type": "code",
   "execution_count": 211,
   "id": "44a197df-ca77-4b03-9788-e232fedda633",
   "metadata": {},
   "outputs": [
    {
     "name": "stdout",
     "output_type": "stream",
     "text": [
      "['String is all lowercase letters', 'Sentence contains an animal', 'The sentence expresses a positive sentiment.', 'Sentence is grammatical', 'Sentence contains a number', 'String is a palindrome']\n",
      "[0.92, 0.91, 1.0, 0.95, 0.97, 0.95]\n",
      "[50, 50, 10, 50, 10, 2]\n",
      "[130, 179, 100, 100, 100, 100]\n",
      "[65, 41, 50, 50, 50, 50]\n"
     ]
    }
   ],
   "source": [
    "print([dataset['rule'] for dataset in datasets])\n",
    "print([dataset['accuracy'] for dataset in datasets])\n",
    "print([dataset['n_train'] for dataset in datasets])\n",
    "print([dataset['length'] for dataset in datasets])\n",
    "print([sum(dataset['targets']) for dataset in datasets])"
   ]
  },
  {
   "cell_type": "code",
   "execution_count": null,
   "id": "620e9cd2-4863-4622-b7d5-813ebd8e7ccf",
   "metadata": {},
   "outputs": [],
   "source": []
  }
 ],
 "metadata": {
  "kernelspec": {
   "display_name": "Python 3 (ipykernel)",
   "language": "python",
   "name": "python3"
  },
  "language_info": {
   "codemirror_mode": {
    "name": "ipython",
    "version": 3
   },
   "file_extension": ".py",
   "mimetype": "text/x-python",
   "name": "python",
   "nbconvert_exporter": "python",
   "pygments_lexer": "ipython3",
   "version": "3.11.6"
  }
 },
 "nbformat": 4,
 "nbformat_minor": 5
}
